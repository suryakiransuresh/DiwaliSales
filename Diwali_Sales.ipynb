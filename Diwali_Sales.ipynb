{
 "cells": [
  {
   "cell_type": "code",
   "execution_count": 46,
   "id": "f0852e3b",
   "metadata": {},
   "outputs": [],
   "source": [
    "import numpy as np\n",
    "import pandas as pd\n",
    "import matplotlib.pyplot as plt\n",
    "%matplotlib inline\n",
    "import seaborn as sns"
   ]
  },
  {
   "cell_type": "code",
   "execution_count": 47,
   "id": "193b2cf6",
   "metadata": {},
   "outputs": [
    {
     "data": {
      "text/html": [
       "<div>\n",
       "<style scoped>\n",
       "    .dataframe tbody tr th:only-of-type {\n",
       "        vertical-align: middle;\n",
       "    }\n",
       "\n",
       "    .dataframe tbody tr th {\n",
       "        vertical-align: top;\n",
       "    }\n",
       "\n",
       "    .dataframe thead th {\n",
       "        text-align: right;\n",
       "    }\n",
       "</style>\n",
       "<table border=\"1\" class=\"dataframe\">\n",
       "  <thead>\n",
       "    <tr style=\"text-align: right;\">\n",
       "      <th></th>\n",
       "      <th>User_ID</th>\n",
       "      <th>Cust_name</th>\n",
       "      <th>Product_ID</th>\n",
       "      <th>Gender</th>\n",
       "      <th>Age Group</th>\n",
       "      <th>Age</th>\n",
       "      <th>Marital_Status</th>\n",
       "      <th>State</th>\n",
       "      <th>Zone</th>\n",
       "      <th>Occupation</th>\n",
       "      <th>Product_Category</th>\n",
       "      <th>Orders</th>\n",
       "      <th>Amount</th>\n",
       "      <th>Status</th>\n",
       "      <th>unnamed1</th>\n",
       "    </tr>\n",
       "  </thead>\n",
       "  <tbody>\n",
       "    <tr>\n",
       "      <th>0</th>\n",
       "      <td>1002903</td>\n",
       "      <td>Sanskriti</td>\n",
       "      <td>P00125942</td>\n",
       "      <td>F</td>\n",
       "      <td>26-35</td>\n",
       "      <td>28</td>\n",
       "      <td>0</td>\n",
       "      <td>Maharashtra</td>\n",
       "      <td>Western</td>\n",
       "      <td>Healthcare</td>\n",
       "      <td>Auto</td>\n",
       "      <td>1</td>\n",
       "      <td>23952.0</td>\n",
       "      <td>NaN</td>\n",
       "      <td>NaN</td>\n",
       "    </tr>\n",
       "    <tr>\n",
       "      <th>1</th>\n",
       "      <td>1000732</td>\n",
       "      <td>Kartik</td>\n",
       "      <td>P00110942</td>\n",
       "      <td>F</td>\n",
       "      <td>26-35</td>\n",
       "      <td>35</td>\n",
       "      <td>1</td>\n",
       "      <td>Andhra Pradesh</td>\n",
       "      <td>Southern</td>\n",
       "      <td>Govt</td>\n",
       "      <td>Auto</td>\n",
       "      <td>3</td>\n",
       "      <td>23934.0</td>\n",
       "      <td>NaN</td>\n",
       "      <td>NaN</td>\n",
       "    </tr>\n",
       "    <tr>\n",
       "      <th>2</th>\n",
       "      <td>1001990</td>\n",
       "      <td>Bindu</td>\n",
       "      <td>P00118542</td>\n",
       "      <td>F</td>\n",
       "      <td>26-35</td>\n",
       "      <td>35</td>\n",
       "      <td>1</td>\n",
       "      <td>Uttar Pradesh</td>\n",
       "      <td>Central</td>\n",
       "      <td>Automobile</td>\n",
       "      <td>Auto</td>\n",
       "      <td>3</td>\n",
       "      <td>23924.0</td>\n",
       "      <td>NaN</td>\n",
       "      <td>NaN</td>\n",
       "    </tr>\n",
       "    <tr>\n",
       "      <th>3</th>\n",
       "      <td>1001425</td>\n",
       "      <td>Sudevi</td>\n",
       "      <td>P00237842</td>\n",
       "      <td>M</td>\n",
       "      <td>0-17</td>\n",
       "      <td>16</td>\n",
       "      <td>0</td>\n",
       "      <td>Karnataka</td>\n",
       "      <td>Southern</td>\n",
       "      <td>Construction</td>\n",
       "      <td>Auto</td>\n",
       "      <td>2</td>\n",
       "      <td>23912.0</td>\n",
       "      <td>NaN</td>\n",
       "      <td>NaN</td>\n",
       "    </tr>\n",
       "    <tr>\n",
       "      <th>4</th>\n",
       "      <td>1000588</td>\n",
       "      <td>Joni</td>\n",
       "      <td>P00057942</td>\n",
       "      <td>M</td>\n",
       "      <td>26-35</td>\n",
       "      <td>28</td>\n",
       "      <td>1</td>\n",
       "      <td>Gujarat</td>\n",
       "      <td>Western</td>\n",
       "      <td>Food Processing</td>\n",
       "      <td>Auto</td>\n",
       "      <td>2</td>\n",
       "      <td>23877.0</td>\n",
       "      <td>NaN</td>\n",
       "      <td>NaN</td>\n",
       "    </tr>\n",
       "  </tbody>\n",
       "</table>\n",
       "</div>"
      ],
      "text/plain": [
       "   User_ID  Cust_name Product_ID Gender Age Group  Age  Marital_Status  \\\n",
       "0  1002903  Sanskriti  P00125942      F     26-35   28               0   \n",
       "1  1000732     Kartik  P00110942      F     26-35   35               1   \n",
       "2  1001990      Bindu  P00118542      F     26-35   35               1   \n",
       "3  1001425     Sudevi  P00237842      M      0-17   16               0   \n",
       "4  1000588       Joni  P00057942      M     26-35   28               1   \n",
       "\n",
       "            State      Zone       Occupation Product_Category  Orders  \\\n",
       "0     Maharashtra   Western       Healthcare             Auto       1   \n",
       "1  Andhra Pradesh  Southern             Govt             Auto       3   \n",
       "2   Uttar Pradesh   Central       Automobile             Auto       3   \n",
       "3       Karnataka  Southern     Construction             Auto       2   \n",
       "4         Gujarat   Western  Food Processing             Auto       2   \n",
       "\n",
       "    Amount  Status  unnamed1  \n",
       "0  23952.0     NaN       NaN  \n",
       "1  23934.0     NaN       NaN  \n",
       "2  23924.0     NaN       NaN  \n",
       "3  23912.0     NaN       NaN  \n",
       "4  23877.0     NaN       NaN  "
      ]
     },
     "execution_count": 47,
     "metadata": {},
     "output_type": "execute_result"
    }
   ],
   "source": [
    "df = pd.read_csv('Diwali Sales Data.csv', encoding = 'unicode_escape')\n",
    "#to avoid unicode error, use 'unicode_escape'.\n",
    "\n",
    "df.head()"
   ]
  },
  {
   "cell_type": "code",
   "execution_count": 48,
   "id": "280827d1",
   "metadata": {},
   "outputs": [
    {
     "data": {
      "text/plain": [
       "(11251, 15)"
      ]
     },
     "execution_count": 48,
     "metadata": {},
     "output_type": "execute_result"
    }
   ],
   "source": [
    "df.shape"
   ]
  },
  {
   "cell_type": "code",
   "execution_count": 49,
   "id": "e85bfbb3",
   "metadata": {},
   "outputs": [
    {
     "name": "stdout",
     "output_type": "stream",
     "text": [
      "<class 'pandas.core.frame.DataFrame'>\n",
      "RangeIndex: 11251 entries, 0 to 11250\n",
      "Data columns (total 15 columns):\n",
      " #   Column            Non-Null Count  Dtype  \n",
      "---  ------            --------------  -----  \n",
      " 0   User_ID           11251 non-null  int64  \n",
      " 1   Cust_name         11251 non-null  object \n",
      " 2   Product_ID        11251 non-null  object \n",
      " 3   Gender            11251 non-null  object \n",
      " 4   Age Group         11251 non-null  object \n",
      " 5   Age               11251 non-null  int64  \n",
      " 6   Marital_Status    11251 non-null  int64  \n",
      " 7   State             11251 non-null  object \n",
      " 8   Zone              11251 non-null  object \n",
      " 9   Occupation        11251 non-null  object \n",
      " 10  Product_Category  11251 non-null  object \n",
      " 11  Orders            11251 non-null  int64  \n",
      " 12  Amount            11239 non-null  float64\n",
      " 13  Status            0 non-null      float64\n",
      " 14  unnamed1          0 non-null      float64\n",
      "dtypes: float64(3), int64(4), object(8)\n",
      "memory usage: 1.3+ MB\n"
     ]
    }
   ],
   "source": [
    "df.info()"
   ]
  },
  {
   "cell_type": "code",
   "execution_count": 50,
   "id": "c5767ebb",
   "metadata": {},
   "outputs": [],
   "source": [
    "df.drop(['Status', 'unnamed1'], inplace = True, axis = 1)"
   ]
  },
  {
   "cell_type": "code",
   "execution_count": 51,
   "id": "c8b3e6d6",
   "metadata": {},
   "outputs": [
    {
     "data": {
      "text/html": [
       "<div>\n",
       "<style scoped>\n",
       "    .dataframe tbody tr th:only-of-type {\n",
       "        vertical-align: middle;\n",
       "    }\n",
       "\n",
       "    .dataframe tbody tr th {\n",
       "        vertical-align: top;\n",
       "    }\n",
       "\n",
       "    .dataframe thead th {\n",
       "        text-align: right;\n",
       "    }\n",
       "</style>\n",
       "<table border=\"1\" class=\"dataframe\">\n",
       "  <thead>\n",
       "    <tr style=\"text-align: right;\">\n",
       "      <th></th>\n",
       "      <th>User_ID</th>\n",
       "      <th>Cust_name</th>\n",
       "      <th>Product_ID</th>\n",
       "      <th>Gender</th>\n",
       "      <th>Age Group</th>\n",
       "      <th>Age</th>\n",
       "      <th>Marital_Status</th>\n",
       "      <th>State</th>\n",
       "      <th>Zone</th>\n",
       "      <th>Occupation</th>\n",
       "      <th>Product_Category</th>\n",
       "      <th>Orders</th>\n",
       "      <th>Amount</th>\n",
       "    </tr>\n",
       "  </thead>\n",
       "  <tbody>\n",
       "    <tr>\n",
       "      <th>0</th>\n",
       "      <td>1002903</td>\n",
       "      <td>Sanskriti</td>\n",
       "      <td>P00125942</td>\n",
       "      <td>F</td>\n",
       "      <td>26-35</td>\n",
       "      <td>28</td>\n",
       "      <td>0</td>\n",
       "      <td>Maharashtra</td>\n",
       "      <td>Western</td>\n",
       "      <td>Healthcare</td>\n",
       "      <td>Auto</td>\n",
       "      <td>1</td>\n",
       "      <td>23952.0</td>\n",
       "    </tr>\n",
       "    <tr>\n",
       "      <th>1</th>\n",
       "      <td>1000732</td>\n",
       "      <td>Kartik</td>\n",
       "      <td>P00110942</td>\n",
       "      <td>F</td>\n",
       "      <td>26-35</td>\n",
       "      <td>35</td>\n",
       "      <td>1</td>\n",
       "      <td>Andhra Pradesh</td>\n",
       "      <td>Southern</td>\n",
       "      <td>Govt</td>\n",
       "      <td>Auto</td>\n",
       "      <td>3</td>\n",
       "      <td>23934.0</td>\n",
       "    </tr>\n",
       "    <tr>\n",
       "      <th>2</th>\n",
       "      <td>1001990</td>\n",
       "      <td>Bindu</td>\n",
       "      <td>P00118542</td>\n",
       "      <td>F</td>\n",
       "      <td>26-35</td>\n",
       "      <td>35</td>\n",
       "      <td>1</td>\n",
       "      <td>Uttar Pradesh</td>\n",
       "      <td>Central</td>\n",
       "      <td>Automobile</td>\n",
       "      <td>Auto</td>\n",
       "      <td>3</td>\n",
       "      <td>23924.0</td>\n",
       "    </tr>\n",
       "    <tr>\n",
       "      <th>3</th>\n",
       "      <td>1001425</td>\n",
       "      <td>Sudevi</td>\n",
       "      <td>P00237842</td>\n",
       "      <td>M</td>\n",
       "      <td>0-17</td>\n",
       "      <td>16</td>\n",
       "      <td>0</td>\n",
       "      <td>Karnataka</td>\n",
       "      <td>Southern</td>\n",
       "      <td>Construction</td>\n",
       "      <td>Auto</td>\n",
       "      <td>2</td>\n",
       "      <td>23912.0</td>\n",
       "    </tr>\n",
       "    <tr>\n",
       "      <th>4</th>\n",
       "      <td>1000588</td>\n",
       "      <td>Joni</td>\n",
       "      <td>P00057942</td>\n",
       "      <td>M</td>\n",
       "      <td>26-35</td>\n",
       "      <td>28</td>\n",
       "      <td>1</td>\n",
       "      <td>Gujarat</td>\n",
       "      <td>Western</td>\n",
       "      <td>Food Processing</td>\n",
       "      <td>Auto</td>\n",
       "      <td>2</td>\n",
       "      <td>23877.0</td>\n",
       "    </tr>\n",
       "  </tbody>\n",
       "</table>\n",
       "</div>"
      ],
      "text/plain": [
       "   User_ID  Cust_name Product_ID Gender Age Group  Age  Marital_Status  \\\n",
       "0  1002903  Sanskriti  P00125942      F     26-35   28               0   \n",
       "1  1000732     Kartik  P00110942      F     26-35   35               1   \n",
       "2  1001990      Bindu  P00118542      F     26-35   35               1   \n",
       "3  1001425     Sudevi  P00237842      M      0-17   16               0   \n",
       "4  1000588       Joni  P00057942      M     26-35   28               1   \n",
       "\n",
       "            State      Zone       Occupation Product_Category  Orders   Amount  \n",
       "0     Maharashtra   Western       Healthcare             Auto       1  23952.0  \n",
       "1  Andhra Pradesh  Southern             Govt             Auto       3  23934.0  \n",
       "2   Uttar Pradesh   Central       Automobile             Auto       3  23924.0  \n",
       "3       Karnataka  Southern     Construction             Auto       2  23912.0  \n",
       "4         Gujarat   Western  Food Processing             Auto       2  23877.0  "
      ]
     },
     "execution_count": 51,
     "metadata": {},
     "output_type": "execute_result"
    }
   ],
   "source": [
    "df.head()"
   ]
  },
  {
   "cell_type": "code",
   "execution_count": 52,
   "id": "e9aa04e3",
   "metadata": {},
   "outputs": [
    {
     "data": {
      "text/plain": [
       "User_ID              0\n",
       "Cust_name            0\n",
       "Product_ID           0\n",
       "Gender               0\n",
       "Age Group            0\n",
       "Age                  0\n",
       "Marital_Status       0\n",
       "State                0\n",
       "Zone                 0\n",
       "Occupation           0\n",
       "Product_Category     0\n",
       "Orders               0\n",
       "Amount              12\n",
       "dtype: int64"
      ]
     },
     "execution_count": 52,
     "metadata": {},
     "output_type": "execute_result"
    }
   ],
   "source": [
    "pd.isnull(df).sum()"
   ]
  },
  {
   "cell_type": "code",
   "execution_count": 53,
   "id": "c0cce105",
   "metadata": {},
   "outputs": [
    {
     "data": {
      "text/plain": [
       "(11239, 13)"
      ]
     },
     "execution_count": 53,
     "metadata": {},
     "output_type": "execute_result"
    }
   ],
   "source": [
    "df.dropna(inplace = True)\n",
    "df.shape"
   ]
  },
  {
   "cell_type": "code",
   "execution_count": 54,
   "id": "12e247eb",
   "metadata": {},
   "outputs": [
    {
     "data": {
      "text/html": [
       "<div>\n",
       "<style scoped>\n",
       "    .dataframe tbody tr th:only-of-type {\n",
       "        vertical-align: middle;\n",
       "    }\n",
       "\n",
       "    .dataframe tbody tr th {\n",
       "        vertical-align: top;\n",
       "    }\n",
       "\n",
       "    .dataframe thead th {\n",
       "        text-align: right;\n",
       "    }\n",
       "</style>\n",
       "<table border=\"1\" class=\"dataframe\">\n",
       "  <thead>\n",
       "    <tr style=\"text-align: right;\">\n",
       "      <th></th>\n",
       "      <th>User_ID</th>\n",
       "      <th>Age</th>\n",
       "      <th>Marital_Status</th>\n",
       "      <th>Orders</th>\n",
       "      <th>Amount</th>\n",
       "    </tr>\n",
       "  </thead>\n",
       "  <tbody>\n",
       "    <tr>\n",
       "      <th>count</th>\n",
       "      <td>1.123900e+04</td>\n",
       "      <td>11239.000000</td>\n",
       "      <td>11239.000000</td>\n",
       "      <td>11239.000000</td>\n",
       "      <td>11239.000000</td>\n",
       "    </tr>\n",
       "    <tr>\n",
       "      <th>mean</th>\n",
       "      <td>1.003004e+06</td>\n",
       "      <td>35.410357</td>\n",
       "      <td>0.420055</td>\n",
       "      <td>2.489634</td>\n",
       "      <td>9453.610858</td>\n",
       "    </tr>\n",
       "    <tr>\n",
       "      <th>std</th>\n",
       "      <td>1.716039e+03</td>\n",
       "      <td>12.753866</td>\n",
       "      <td>0.493589</td>\n",
       "      <td>1.114967</td>\n",
       "      <td>5222.355869</td>\n",
       "    </tr>\n",
       "    <tr>\n",
       "      <th>min</th>\n",
       "      <td>1.000001e+06</td>\n",
       "      <td>12.000000</td>\n",
       "      <td>0.000000</td>\n",
       "      <td>1.000000</td>\n",
       "      <td>188.000000</td>\n",
       "    </tr>\n",
       "    <tr>\n",
       "      <th>25%</th>\n",
       "      <td>1.001492e+06</td>\n",
       "      <td>27.000000</td>\n",
       "      <td>0.000000</td>\n",
       "      <td>2.000000</td>\n",
       "      <td>5443.000000</td>\n",
       "    </tr>\n",
       "    <tr>\n",
       "      <th>50%</th>\n",
       "      <td>1.003064e+06</td>\n",
       "      <td>33.000000</td>\n",
       "      <td>0.000000</td>\n",
       "      <td>2.000000</td>\n",
       "      <td>8109.000000</td>\n",
       "    </tr>\n",
       "    <tr>\n",
       "      <th>75%</th>\n",
       "      <td>1.004426e+06</td>\n",
       "      <td>43.000000</td>\n",
       "      <td>1.000000</td>\n",
       "      <td>3.000000</td>\n",
       "      <td>12675.000000</td>\n",
       "    </tr>\n",
       "    <tr>\n",
       "      <th>max</th>\n",
       "      <td>1.006040e+06</td>\n",
       "      <td>92.000000</td>\n",
       "      <td>1.000000</td>\n",
       "      <td>4.000000</td>\n",
       "      <td>23952.000000</td>\n",
       "    </tr>\n",
       "  </tbody>\n",
       "</table>\n",
       "</div>"
      ],
      "text/plain": [
       "            User_ID           Age  Marital_Status        Orders        Amount\n",
       "count  1.123900e+04  11239.000000    11239.000000  11239.000000  11239.000000\n",
       "mean   1.003004e+06     35.410357        0.420055      2.489634   9453.610858\n",
       "std    1.716039e+03     12.753866        0.493589      1.114967   5222.355869\n",
       "min    1.000001e+06     12.000000        0.000000      1.000000    188.000000\n",
       "25%    1.001492e+06     27.000000        0.000000      2.000000   5443.000000\n",
       "50%    1.003064e+06     33.000000        0.000000      2.000000   8109.000000\n",
       "75%    1.004426e+06     43.000000        1.000000      3.000000  12675.000000\n",
       "max    1.006040e+06     92.000000        1.000000      4.000000  23952.000000"
      ]
     },
     "execution_count": 54,
     "metadata": {},
     "output_type": "execute_result"
    }
   ],
   "source": [
    "df.describe()"
   ]
  },
  {
   "cell_type": "code",
   "execution_count": 55,
   "id": "c4b55131",
   "metadata": {},
   "outputs": [
    {
     "data": {
      "text/plain": [
       "Index(['User_ID', 'Cust_name', 'Product_ID', 'Gender', 'Age Group', 'Age',\n",
       "       'Marital_Status', 'State', 'Zone', 'Occupation', 'Product_Category',\n",
       "       'Orders', 'Amount'],\n",
       "      dtype='object')"
      ]
     },
     "execution_count": 55,
     "metadata": {},
     "output_type": "execute_result"
    }
   ],
   "source": [
    "df.columns"
   ]
  },
  {
   "cell_type": "code",
   "execution_count": 56,
   "id": "b2256ee3",
   "metadata": {},
   "outputs": [
    {
     "data": {
      "text/plain": [
       "<AxesSubplot:xlabel='Gender', ylabel='count'>"
      ]
     },
     "execution_count": 56,
     "metadata": {},
     "output_type": "execute_result"
    },
    {
     "data": {
      "image/png": "[encoded data removed]",
      "text/plain": [
       "<Figure size 432x288 with 1 Axes>"
      ]
     },
     "metadata": {
      "needs_background": "light"
     },
     "output_type": "display_data"
    }
   ],
   "source": [
    "sns.countplot(data = df, x = 'Gender')"
   ]
  },
  {
   "cell_type": "code",
   "execution_count": 57,
   "id": "74d88cd2",
   "metadata": {},
   "outputs": [
    {
     "data": {
      "image/png": "[encoded data removed]",
      "text/plain": [
       "<Figure size 432x288 with 1 Axes>"
      ]
     },
     "metadata": {
      "needs_background": "light"
     },
     "output_type": "display_data"
    }
   ],
   "source": [
    "## I need the exact numbers representing each bar.\n",
    "\n",
    "ax = sns.countplot(x = 'Gender', data = df)\n",
    "\n",
    "for bars in ax.containers:\n",
    "    ax.bar_label(bars)"
   ]
  },
  {
   "cell_type": "code",
   "execution_count": 58,
   "id": "91dfd5b5",
   "metadata": {},
   "outputs": [
    {
     "data": {
      "text/plain": [
       "Gender\n",
       "F    74335856.43\n",
       "M    31913276.00\n",
       "Name: Amount, dtype: float64"
      ]
     },
     "execution_count": 58,
     "metadata": {},
     "output_type": "execute_result"
    }
   ],
   "source": [
    "df.groupby('Gender')['Amount'].sum()"
   ]
  },
  {
   "cell_type": "code",
   "execution_count": 59,
   "id": "29e1e859",
   "metadata": {},
   "outputs": [
    {
     "data": {
      "text/html": [
       "<div>\n",
       "<style scoped>\n",
       "    .dataframe tbody tr th:only-of-type {\n",
       "        vertical-align: middle;\n",
       "    }\n",
       "\n",
       "    .dataframe tbody tr th {\n",
       "        vertical-align: top;\n",
       "    }\n",
       "\n",
       "    .dataframe thead th {\n",
       "        text-align: right;\n",
       "    }\n",
       "</style>\n",
       "<table border=\"1\" class=\"dataframe\">\n",
       "  <thead>\n",
       "    <tr style=\"text-align: right;\">\n",
       "      <th></th>\n",
       "      <th>Gender</th>\n",
       "      <th>Amount</th>\n",
       "    </tr>\n",
       "  </thead>\n",
       "  <tbody>\n",
       "    <tr>\n",
       "      <th>0</th>\n",
       "      <td>F</td>\n",
       "      <td>74335856.43</td>\n",
       "    </tr>\n",
       "    <tr>\n",
       "      <th>1</th>\n",
       "      <td>M</td>\n",
       "      <td>31913276.00</td>\n",
       "    </tr>\n",
       "  </tbody>\n",
       "</table>\n",
       "</div>"
      ],
      "text/plain": [
       "  Gender       Amount\n",
       "0      F  74335856.43\n",
       "1      M  31913276.00"
      ]
     },
     "execution_count": 59,
     "metadata": {},
     "output_type": "execute_result"
    }
   ],
   "source": [
    "## Using the columns names separately. \n",
    "\n",
    "df.groupby(['Gender'], as_index = False)['Amount'].sum()"
   ]
  },
  {
   "cell_type": "code",
   "execution_count": 60,
   "id": "8e56e92f",
   "metadata": {},
   "outputs": [
    {
     "data": {
      "text/plain": [
       "<AxesSubplot:xlabel='Gender', ylabel='Amount'>"
      ]
     },
     "execution_count": 60,
     "metadata": {},
     "output_type": "execute_result"
    },
    {
     "data": {
      "image/png": "[encoded data removed]",
      "text/plain": [
       "<Figure size 432x288 with 1 Axes>"
      ]
     },
     "metadata": {
      "needs_background": "light"
     },
     "output_type": "display_data"
    }
   ],
   "source": [
    "sales_by_gender = df.groupby(['Gender'], as_index = False)['Amount'].sum()\n",
    "\n",
    "sns.barplot(data = sales_by_gender, x = 'Gender', y = 'Amount')"
   ]
  },
  {
   "cell_type": "code",
   "execution_count": 61,
   "id": "3388df3a",
   "metadata": {},
   "outputs": [
    {
     "data": {
      "text/plain": [
       "Index(['User_ID', 'Cust_name', 'Product_ID', 'Gender', 'Age Group', 'Age',\n",
       "       'Marital_Status', 'State', 'Zone', 'Occupation', 'Product_Category',\n",
       "       'Orders', 'Amount'],\n",
       "      dtype='object')"
      ]
     },
     "execution_count": 61,
     "metadata": {},
     "output_type": "execute_result"
    }
   ],
   "source": [
    "df.columns"
   ]
  },
  {
   "cell_type": "code",
   "execution_count": 62,
   "id": "9ee0938c",
   "metadata": {},
   "outputs": [
    {
     "data": {
      "text/plain": [
       "<AxesSubplot:xlabel='Age Group', ylabel='count'>"
      ]
     },
     "execution_count": 62,
     "metadata": {},
     "output_type": "execute_result"
    },
    {
     "data": {
      "image/png": "[encoded data removed]",
      "text/plain": [
       "<Figure size 432x288 with 1 Axes>"
      ]
     },
     "metadata": {
      "needs_background": "light"
     },
     "output_type": "display_data"
    }
   ],
   "source": [
    "sns.countplot(data = df, x = 'Age Group', hue = 'Gender')"
   ]
  },
  {
   "cell_type": "code",
   "execution_count": 63,
   "id": "561d3d00",
   "metadata": {},
   "outputs": [
    {
     "data": {
      "image/png": "[encoded data removed]",
      "text/plain": [
       "<Figure size 432x288 with 1 Axes>"
      ]
     },
     "metadata": {
      "needs_background": "light"
     },
     "output_type": "display_data"
    }
   ],
   "source": [
    "ax1 = sns.countplot(data = df, x = 'Age Group', hue = 'Gender')\n",
    "\n",
    "for bars in ax1.containers:\n",
    "    ax1.bar_label(bars)"
   ]
  },
  {
   "cell_type": "code",
   "execution_count": 64,
   "id": "bdee8f79",
   "metadata": {},
   "outputs": [
    {
     "data": {
      "text/plain": [
       "<AxesSubplot:xlabel='Age Group', ylabel='Amount'>"
      ]
     },
     "execution_count": 64,
     "metadata": {},
     "output_type": "execute_result"
    },
    {
     "data": {
      "image/png": "[encoded data removed]",
      "text/plain": [
       "<Figure size 432x288 with 1 Axes>"
      ]
     },
     "metadata": {
      "needs_background": "light"
     },
     "output_type": "display_data"
    }
   ],
   "source": [
    "sales_by_agegroup = df.groupby(['Age Group'], as_index = False)['Amount'].sum().sort_values(by = 'Amount', ascending = False)\n",
    "\n",
    "sns.barplot(data = sales_by_agegroup, x = 'Age Group', y = 'Amount')"
   ]
  },
  {
   "cell_type": "code",
   "execution_count": 65,
   "id": "06159d45",
   "metadata": {},
   "outputs": [
    {
     "data": {
      "text/html": [
       "<div>\n",
       "<style scoped>\n",
       "    .dataframe tbody tr th:only-of-type {\n",
       "        vertical-align: middle;\n",
       "    }\n",
       "\n",
       "    .dataframe tbody tr th {\n",
       "        vertical-align: top;\n",
       "    }\n",
       "\n",
       "    .dataframe thead th {\n",
       "        text-align: right;\n",
       "    }\n",
       "</style>\n",
       "<table border=\"1\" class=\"dataframe\">\n",
       "  <thead>\n",
       "    <tr style=\"text-align: right;\">\n",
       "      <th></th>\n",
       "      <th>Age Group</th>\n",
       "      <th>Amount</th>\n",
       "    </tr>\n",
       "  </thead>\n",
       "  <tbody>\n",
       "    <tr>\n",
       "      <th>2</th>\n",
       "      <td>26-35</td>\n",
       "      <td>42613443.94</td>\n",
       "    </tr>\n",
       "    <tr>\n",
       "      <th>3</th>\n",
       "      <td>36-45</td>\n",
       "      <td>22144995.49</td>\n",
       "    </tr>\n",
       "    <tr>\n",
       "      <th>1</th>\n",
       "      <td>18-25</td>\n",
       "      <td>17240732.00</td>\n",
       "    </tr>\n",
       "    <tr>\n",
       "      <th>4</th>\n",
       "      <td>46-50</td>\n",
       "      <td>9207844.00</td>\n",
       "    </tr>\n",
       "    <tr>\n",
       "      <th>5</th>\n",
       "      <td>51-55</td>\n",
       "      <td>8261477.00</td>\n",
       "    </tr>\n",
       "    <tr>\n",
       "      <th>6</th>\n",
       "      <td>55+</td>\n",
       "      <td>4080987.00</td>\n",
       "    </tr>\n",
       "    <tr>\n",
       "      <th>0</th>\n",
       "      <td>0-17</td>\n",
       "      <td>2699653.00</td>\n",
       "    </tr>\n",
       "  </tbody>\n",
       "</table>\n",
       "</div>"
      ],
      "text/plain": [
       "  Age Group       Amount\n",
       "2     26-35  42613443.94\n",
       "3     36-45  22144995.49\n",
       "1     18-25  17240732.00\n",
       "4     46-50   9207844.00\n",
       "5     51-55   8261477.00\n",
       "6       55+   4080987.00\n",
       "0      0-17   2699653.00"
      ]
     },
     "execution_count": 65,
     "metadata": {},
     "output_type": "execute_result"
    }
   ],
   "source": [
    "sales_by_agegroup"
   ]
  },
  {
   "cell_type": "markdown",
   "id": "5c9df422",
   "metadata": {},
   "source": [
    "##### We can see that the highest purchase is made by the people of age group between 26 and 35.\n",
    "##### The next is made by the people of age group between 36 and 45. The third comprises of youths aged between 18 and 25. We can also see many teens in the list- although they have spent the least."
   ]
  },
  {
   "cell_type": "code",
   "execution_count": 66,
   "id": "b61afa49",
   "metadata": {},
   "outputs": [
    {
     "data": {
      "text/plain": [
       "(array([ 0,  1,  2,  3,  4,  5,  6,  7,  8,  9, 10, 11, 12, 13, 14, 15]),\n",
       " [Text(0, 0, 'Uttar Pradesh'),\n",
       "  Text(1, 0, 'Maharashtra'),\n",
       "  Text(2, 0, 'Karnataka'),\n",
       "  Text(3, 0, 'Delhi'),\n",
       "  Text(4, 0, 'Madhya Pradesh'),\n",
       "  Text(5, 0, 'Andhra\\xa0Pradesh'),\n",
       "  Text(6, 0, 'Himachal Pradesh'),\n",
       "  Text(7, 0, 'Kerala'),\n",
       "  Text(8, 0, 'Haryana'),\n",
       "  Text(9, 0, 'Gujarat'),\n",
       "  Text(10, 0, 'Bihar'),\n",
       "  Text(11, 0, 'Jharkhand'),\n",
       "  Text(12, 0, 'Uttarakhand'),\n",
       "  Text(13, 0, 'Rajasthan'),\n",
       "  Text(14, 0, 'Punjab'),\n",
       "  Text(15, 0, 'Telangana')])"
      ]
     },
     "execution_count": 66,
     "metadata": {},
     "output_type": "execute_result"
    },
    {
     "data": {
      "image/png": "[encoded data removed]",
      "text/plain": [
       "<Figure size 432x288 with 1 Axes>"
      ]
     },
     "metadata": {
      "needs_background": "light"
     },
     "output_type": "display_data"
    }
   ],
   "source": [
    "orders_by_state = df.groupby(['State'], as_index = False)['Orders'].sum().sort_values(by = 'Orders', ascending = False)\n",
    "\n",
    "sns.barplot(data = orders_by_state, x = 'State', y = 'Orders')\n",
    "\n",
    "plt.xticks(rotation=90, fontsize=10)  # Rotate x-axis labels by 90 degrees and set font size to 10\n"
   ]
  },
  {
   "cell_type": "markdown",
   "id": "9c20403e",
   "metadata": {},
   "source": [
    "##### Kerala, Harayana, Gujarat, Bihar and Jharkhand have almost the same number of orders. "
   ]
  },
  {
   "cell_type": "code",
   "execution_count": 67,
   "id": "e61205a1",
   "metadata": {},
   "outputs": [
    {
     "data": {
      "text/plain": [
       "(array([ 0,  1,  2,  3,  4,  5,  6,  7,  8,  9, 10, 11, 12, 13, 14, 15]),\n",
       " [Text(0, 0, 'Uttar Pradesh'),\n",
       "  Text(1, 0, 'Maharashtra'),\n",
       "  Text(2, 0, 'Karnataka'),\n",
       "  Text(3, 0, 'Delhi'),\n",
       "  Text(4, 0, 'Madhya Pradesh'),\n",
       "  Text(5, 0, 'Andhra\\xa0Pradesh'),\n",
       "  Text(6, 0, 'Himachal Pradesh'),\n",
       "  Text(7, 0, 'Haryana'),\n",
       "  Text(8, 0, 'Bihar'),\n",
       "  Text(9, 0, 'Gujarat'),\n",
       "  Text(10, 0, 'Kerala'),\n",
       "  Text(11, 0, 'Jharkhand'),\n",
       "  Text(12, 0, 'Uttarakhand'),\n",
       "  Text(13, 0, 'Rajasthan'),\n",
       "  Text(14, 0, 'Punjab'),\n",
       "  Text(15, 0, 'Telangana')])"
      ]
     },
     "execution_count": 67,
     "metadata": {},
     "output_type": "execute_result"
    },
    {
     "data": {
      "image/png": "[encoded data removed]",
      "text/plain": [
       "<Figure size 432x288 with 1 Axes>"
      ]
     },
     "metadata": {
      "needs_background": "light"
     },
     "output_type": "display_data"
    }
   ],
   "source": [
    "amount_by_state = df.groupby(['State'], as_index = False)['Amount'].sum().sort_values(by = 'Amount', ascending = False)\n",
    "\n",
    "sns.barplot(data = amount_by_state, x = 'State', y = 'Amount')\n",
    "\n",
    "plt.xticks(rotation=90, fontsize=10)  # Rotate x-axis labels by 90 degrees and set font size to 10\n"
   ]
  },
  {
   "cell_type": "markdown",
   "id": "41719a4b",
   "metadata": {},
   "source": [
    "##### Revenue generated from Himachal Pradesh, Harayana, Bihar, Gujarat, Kerala is almost same."
   ]
  },
  {
   "cell_type": "code",
   "execution_count": 92,
   "id": "6ff6bb04",
   "metadata": {},
   "outputs": [
    {
     "data": {
      "text/html": [
       "<div>\n",
       "<style scoped>\n",
       "    .dataframe tbody tr th:only-of-type {\n",
       "        vertical-align: middle;\n",
       "    }\n",
       "\n",
       "    .dataframe tbody tr th {\n",
       "        vertical-align: top;\n",
       "    }\n",
       "\n",
       "    .dataframe thead th {\n",
       "        text-align: right;\n",
       "    }\n",
       "</style>\n",
       "<table border=\"1\" class=\"dataframe\">\n",
       "  <thead>\n",
       "    <tr style=\"text-align: right;\">\n",
       "      <th></th>\n",
       "      <th>State</th>\n",
       "      <th>Amount</th>\n",
       "      <th>Orders</th>\n",
       "    </tr>\n",
       "  </thead>\n",
       "  <tbody>\n",
       "    <tr>\n",
       "      <th>0</th>\n",
       "      <td>Andhra Pradesh</td>\n",
       "      <td>8037146.99</td>\n",
       "      <td>2051</td>\n",
       "    </tr>\n",
       "    <tr>\n",
       "      <th>1</th>\n",
       "      <td>Bihar</td>\n",
       "      <td>4022757.00</td>\n",
       "      <td>1062</td>\n",
       "    </tr>\n",
       "    <tr>\n",
       "      <th>2</th>\n",
       "      <td>Delhi</td>\n",
       "      <td>11603819.45</td>\n",
       "      <td>2740</td>\n",
       "    </tr>\n",
       "    <tr>\n",
       "      <th>3</th>\n",
       "      <td>Gujarat</td>\n",
       "      <td>3946082.00</td>\n",
       "      <td>1066</td>\n",
       "    </tr>\n",
       "    <tr>\n",
       "      <th>4</th>\n",
       "      <td>Haryana</td>\n",
       "      <td>4220175.00</td>\n",
       "      <td>1109</td>\n",
       "    </tr>\n",
       "    <tr>\n",
       "      <th>5</th>\n",
       "      <td>Himachal Pradesh</td>\n",
       "      <td>4963368.00</td>\n",
       "      <td>1568</td>\n",
       "    </tr>\n",
       "    <tr>\n",
       "      <th>6</th>\n",
       "      <td>Jharkhand</td>\n",
       "      <td>3026456.00</td>\n",
       "      <td>953</td>\n",
       "    </tr>\n",
       "    <tr>\n",
       "      <th>7</th>\n",
       "      <td>Karnataka</td>\n",
       "      <td>13523540.00</td>\n",
       "      <td>3240</td>\n",
       "    </tr>\n",
       "    <tr>\n",
       "      <th>8</th>\n",
       "      <td>Kerala</td>\n",
       "      <td>3894491.99</td>\n",
       "      <td>1137</td>\n",
       "    </tr>\n",
       "    <tr>\n",
       "      <th>9</th>\n",
       "      <td>Madhya Pradesh</td>\n",
       "      <td>8101142.00</td>\n",
       "      <td>2252</td>\n",
       "    </tr>\n",
       "    <tr>\n",
       "      <th>10</th>\n",
       "      <td>Maharashtra</td>\n",
       "      <td>14427543.00</td>\n",
       "      <td>3810</td>\n",
       "    </tr>\n",
       "    <tr>\n",
       "      <th>11</th>\n",
       "      <td>Punjab</td>\n",
       "      <td>1525800.00</td>\n",
       "      <td>495</td>\n",
       "    </tr>\n",
       "    <tr>\n",
       "      <th>12</th>\n",
       "      <td>Rajasthan</td>\n",
       "      <td>1909409.00</td>\n",
       "      <td>555</td>\n",
       "    </tr>\n",
       "    <tr>\n",
       "      <th>13</th>\n",
       "      <td>Telangana</td>\n",
       "      <td>1151490.00</td>\n",
       "      <td>312</td>\n",
       "    </tr>\n",
       "    <tr>\n",
       "      <th>14</th>\n",
       "      <td>Uttar Pradesh</td>\n",
       "      <td>19374968.00</td>\n",
       "      <td>4807</td>\n",
       "    </tr>\n",
       "    <tr>\n",
       "      <th>15</th>\n",
       "      <td>Uttarakhand</td>\n",
       "      <td>2520944.00</td>\n",
       "      <td>824</td>\n",
       "    </tr>\n",
       "  </tbody>\n",
       "</table>\n",
       "</div>"
      ],
      "text/plain": [
       "               State       Amount  Orders\n",
       "0     Andhra Pradesh   8037146.99    2051\n",
       "1              Bihar   4022757.00    1062\n",
       "2              Delhi  11603819.45    2740\n",
       "3            Gujarat   3946082.00    1066\n",
       "4            Haryana   4220175.00    1109\n",
       "5   Himachal Pradesh   4963368.00    1568\n",
       "6          Jharkhand   3026456.00     953\n",
       "7          Karnataka  13523540.00    3240\n",
       "8             Kerala   3894491.99    1137\n",
       "9     Madhya Pradesh   8101142.00    2252\n",
       "10       Maharashtra  14427543.00    3810\n",
       "11            Punjab   1525800.00     495\n",
       "12         Rajasthan   1909409.00     555\n",
       "13         Telangana   1151490.00     312\n",
       "14     Uttar Pradesh  19374968.00    4807\n",
       "15       Uttarakhand   2520944.00     824"
      ]
     },
     "execution_count": 92,
     "metadata": {},
     "output_type": "execute_result"
    }
   ],
   "source": [
    "grouped_df = df.groupby('State', as_index=False).agg({'Amount': 'sum', 'Orders': 'sum'})\n",
    "grouped_df\n",
    "\n",
    "## Aggregating amount and orders to see how much each state accounts to."
   ]
  },
  {
   "cell_type": "code",
   "execution_count": 93,
   "id": "029d15d2",
   "metadata": {},
   "outputs": [
    {
     "data": {
      "text/html": [
       "<div>\n",
       "<style scoped>\n",
       "    .dataframe tbody tr th:only-of-type {\n",
       "        vertical-align: middle;\n",
       "    }\n",
       "\n",
       "    .dataframe tbody tr th {\n",
       "        vertical-align: top;\n",
       "    }\n",
       "\n",
       "    .dataframe thead th {\n",
       "        text-align: right;\n",
       "    }\n",
       "</style>\n",
       "<table border=\"1\" class=\"dataframe\">\n",
       "  <thead>\n",
       "    <tr style=\"text-align: right;\">\n",
       "      <th></th>\n",
       "      <th>State</th>\n",
       "      <th>Amount</th>\n",
       "      <th>Orders</th>\n",
       "      <th>avg_amount_per_order</th>\n",
       "    </tr>\n",
       "  </thead>\n",
       "  <tbody>\n",
       "    <tr>\n",
       "      <th>2</th>\n",
       "      <td>Delhi</td>\n",
       "      <td>11603819.45</td>\n",
       "      <td>2740</td>\n",
       "      <td>4234.970602</td>\n",
       "    </tr>\n",
       "    <tr>\n",
       "      <th>7</th>\n",
       "      <td>Karnataka</td>\n",
       "      <td>13523540.00</td>\n",
       "      <td>3240</td>\n",
       "      <td>4173.932099</td>\n",
       "    </tr>\n",
       "    <tr>\n",
       "      <th>14</th>\n",
       "      <td>Uttar Pradesh</td>\n",
       "      <td>19374968.00</td>\n",
       "      <td>4807</td>\n",
       "      <td>4030.573747</td>\n",
       "    </tr>\n",
       "    <tr>\n",
       "      <th>0</th>\n",
       "      <td>Andhra Pradesh</td>\n",
       "      <td>8037146.99</td>\n",
       "      <td>2051</td>\n",
       "      <td>3918.647972</td>\n",
       "    </tr>\n",
       "    <tr>\n",
       "      <th>4</th>\n",
       "      <td>Haryana</td>\n",
       "      <td>4220175.00</td>\n",
       "      <td>1109</td>\n",
       "      <td>3805.387737</td>\n",
       "    </tr>\n",
       "    <tr>\n",
       "      <th>1</th>\n",
       "      <td>Bihar</td>\n",
       "      <td>4022757.00</td>\n",
       "      <td>1062</td>\n",
       "      <td>3787.906780</td>\n",
       "    </tr>\n",
       "    <tr>\n",
       "      <th>10</th>\n",
       "      <td>Maharashtra</td>\n",
       "      <td>14427543.00</td>\n",
       "      <td>3810</td>\n",
       "      <td>3786.756693</td>\n",
       "    </tr>\n",
       "    <tr>\n",
       "      <th>3</th>\n",
       "      <td>Gujarat</td>\n",
       "      <td>3946082.00</td>\n",
       "      <td>1066</td>\n",
       "      <td>3701.765478</td>\n",
       "    </tr>\n",
       "    <tr>\n",
       "      <th>13</th>\n",
       "      <td>Telangana</td>\n",
       "      <td>1151490.00</td>\n",
       "      <td>312</td>\n",
       "      <td>3690.673077</td>\n",
       "    </tr>\n",
       "    <tr>\n",
       "      <th>9</th>\n",
       "      <td>Madhya Pradesh</td>\n",
       "      <td>8101142.00</td>\n",
       "      <td>2252</td>\n",
       "      <td>3597.309947</td>\n",
       "    </tr>\n",
       "    <tr>\n",
       "      <th>12</th>\n",
       "      <td>Rajasthan</td>\n",
       "      <td>1909409.00</td>\n",
       "      <td>555</td>\n",
       "      <td>3440.376577</td>\n",
       "    </tr>\n",
       "    <tr>\n",
       "      <th>8</th>\n",
       "      <td>Kerala</td>\n",
       "      <td>3894491.99</td>\n",
       "      <td>1137</td>\n",
       "      <td>3425.234820</td>\n",
       "    </tr>\n",
       "    <tr>\n",
       "      <th>6</th>\n",
       "      <td>Jharkhand</td>\n",
       "      <td>3026456.00</td>\n",
       "      <td>953</td>\n",
       "      <td>3175.714586</td>\n",
       "    </tr>\n",
       "    <tr>\n",
       "      <th>5</th>\n",
       "      <td>Himachal Pradesh</td>\n",
       "      <td>4963368.00</td>\n",
       "      <td>1568</td>\n",
       "      <td>3165.413265</td>\n",
       "    </tr>\n",
       "    <tr>\n",
       "      <th>11</th>\n",
       "      <td>Punjab</td>\n",
       "      <td>1525800.00</td>\n",
       "      <td>495</td>\n",
       "      <td>3082.424242</td>\n",
       "    </tr>\n",
       "    <tr>\n",
       "      <th>15</th>\n",
       "      <td>Uttarakhand</td>\n",
       "      <td>2520944.00</td>\n",
       "      <td>824</td>\n",
       "      <td>3059.398058</td>\n",
       "    </tr>\n",
       "  </tbody>\n",
       "</table>\n",
       "</div>"
      ],
      "text/plain": [
       "               State       Amount  Orders  avg_amount_per_order\n",
       "2              Delhi  11603819.45    2740           4234.970602\n",
       "7          Karnataka  13523540.00    3240           4173.932099\n",
       "14     Uttar Pradesh  19374968.00    4807           4030.573747\n",
       "0     Andhra Pradesh   8037146.99    2051           3918.647972\n",
       "4            Haryana   4220175.00    1109           3805.387737\n",
       "1              Bihar   4022757.00    1062           3787.906780\n",
       "10       Maharashtra  14427543.00    3810           3786.756693\n",
       "3            Gujarat   3946082.00    1066           3701.765478\n",
       "13         Telangana   1151490.00     312           3690.673077\n",
       "9     Madhya Pradesh   8101142.00    2252           3597.309947\n",
       "12         Rajasthan   1909409.00     555           3440.376577\n",
       "8             Kerala   3894491.99    1137           3425.234820\n",
       "6          Jharkhand   3026456.00     953           3175.714586\n",
       "5   Himachal Pradesh   4963368.00    1568           3165.413265\n",
       "11            Punjab   1525800.00     495           3082.424242\n",
       "15       Uttarakhand   2520944.00     824           3059.398058"
      ]
     },
     "execution_count": 93,
     "metadata": {},
     "output_type": "execute_result"
    }
   ],
   "source": [
    "grouped_df['avg_amount_per_order'] = grouped_df['Amount']/grouped_df['Orders']\n",
    "grouped_df.sort_values(by = 'avg_amount_per_order', ascending = False, inplace = True)\n",
    "grouped_df\n"
   ]
  },
  {
   "cell_type": "code",
   "execution_count": 94,
   "id": "645d56fd",
   "metadata": {},
   "outputs": [
    {
     "data": {
      "text/plain": [
       "(array([ 0,  1,  2,  3,  4,  5,  6,  7,  8,  9, 10, 11, 12, 13, 14, 15]),\n",
       " [Text(0, 0, 'Delhi'),\n",
       "  Text(1, 0, 'Karnataka'),\n",
       "  Text(2, 0, 'Uttar Pradesh'),\n",
       "  Text(3, 0, 'Andhra\\xa0Pradesh'),\n",
       "  Text(4, 0, 'Haryana'),\n",
       "  Text(5, 0, 'Bihar'),\n",
       "  Text(6, 0, 'Maharashtra'),\n",
       "  Text(7, 0, 'Gujarat'),\n",
       "  Text(8, 0, 'Telangana'),\n",
       "  Text(9, 0, 'Madhya Pradesh'),\n",
       "  Text(10, 0, 'Rajasthan'),\n",
       "  Text(11, 0, 'Kerala'),\n",
       "  Text(12, 0, 'Jharkhand'),\n",
       "  Text(13, 0, 'Himachal Pradesh'),\n",
       "  Text(14, 0, 'Punjab'),\n",
       "  Text(15, 0, 'Uttarakhand')])"
      ]
     },
     "execution_count": 94,
     "metadata": {},
     "output_type": "execute_result"
    },
    {
     "data": {
      "image/png": "[encoded data removed]",
      "text/plain": [
       "<Figure size 432x288 with 1 Axes>"
      ]
     },
     "metadata": {
      "needs_background": "light"
     },
     "output_type": "display_data"
    }
   ],
   "source": [
    "sns.barplot(data = grouped_df, x = 'State', y = 'avg_amount_per_order')\n",
    "plt.xticks(rotation=90, fontsize=10)  # Rotate x-axis labels by 90 degrees and set font size to 10"
   ]
  },
  {
   "cell_type": "code",
   "execution_count": 96,
   "id": "5044a280",
   "metadata": {},
   "outputs": [
    {
     "data": {
      "text/html": [
       "<div>\n",
       "<style scoped>\n",
       "    .dataframe tbody tr th:only-of-type {\n",
       "        vertical-align: middle;\n",
       "    }\n",
       "\n",
       "    .dataframe tbody tr th {\n",
       "        vertical-align: top;\n",
       "    }\n",
       "\n",
       "    .dataframe thead th {\n",
       "        text-align: right;\n",
       "    }\n",
       "</style>\n",
       "<table border=\"1\" class=\"dataframe\">\n",
       "  <thead>\n",
       "    <tr style=\"text-align: right;\">\n",
       "      <th></th>\n",
       "      <th>Amount</th>\n",
       "      <th>Orders</th>\n",
       "      <th>avg_amount_per_order</th>\n",
       "    </tr>\n",
       "  </thead>\n",
       "  <tbody>\n",
       "    <tr>\n",
       "      <th>count</th>\n",
       "      <td>1.600000e+01</td>\n",
       "      <td>16.000000</td>\n",
       "      <td>16.000000</td>\n",
       "    </tr>\n",
       "    <tr>\n",
       "      <th>mean</th>\n",
       "      <td>6.640571e+06</td>\n",
       "      <td>1748.812500</td>\n",
       "      <td>3629.780355</td>\n",
       "    </tr>\n",
       "    <tr>\n",
       "      <th>std</th>\n",
       "      <td>5.403258e+06</td>\n",
       "      <td>1302.719833</td>\n",
       "      <td>376.060603</td>\n",
       "    </tr>\n",
       "    <tr>\n",
       "      <th>min</th>\n",
       "      <td>1.151490e+06</td>\n",
       "      <td>312.000000</td>\n",
       "      <td>3059.398058</td>\n",
       "    </tr>\n",
       "    <tr>\n",
       "      <th>25%</th>\n",
       "      <td>2.900078e+06</td>\n",
       "      <td>920.750000</td>\n",
       "      <td>3362.854761</td>\n",
       "    </tr>\n",
       "    <tr>\n",
       "      <th>50%</th>\n",
       "      <td>4.121466e+06</td>\n",
       "      <td>1123.000000</td>\n",
       "      <td>3696.219278</td>\n",
       "    </tr>\n",
       "    <tr>\n",
       "      <th>75%</th>\n",
       "      <td>8.976811e+06</td>\n",
       "      <td>2374.000000</td>\n",
       "      <td>3833.702795</td>\n",
       "    </tr>\n",
       "    <tr>\n",
       "      <th>max</th>\n",
       "      <td>1.937497e+07</td>\n",
       "      <td>4807.000000</td>\n",
       "      <td>4234.970602</td>\n",
       "    </tr>\n",
       "  </tbody>\n",
       "</table>\n",
       "</div>"
      ],
      "text/plain": [
       "             Amount       Orders  avg_amount_per_order\n",
       "count  1.600000e+01    16.000000             16.000000\n",
       "mean   6.640571e+06  1748.812500           3629.780355\n",
       "std    5.403258e+06  1302.719833            376.060603\n",
       "min    1.151490e+06   312.000000           3059.398058\n",
       "25%    2.900078e+06   920.750000           3362.854761\n",
       "50%    4.121466e+06  1123.000000           3696.219278\n",
       "75%    8.976811e+06  2374.000000           3833.702795\n",
       "max    1.937497e+07  4807.000000           4234.970602"
      ]
     },
     "execution_count": 96,
     "metadata": {},
     "output_type": "execute_result"
    }
   ],
   "source": [
    "grouped_df.describe()"
   ]
  },
  {
   "cell_type": "markdown",
   "id": "94353725",
   "metadata": {},
   "source": [
    "##### Telangana state has the least number of orders at 312, while UP has 4807 which is the highest. The average amount spent for an order is INR 3630. While UP has the most number of orders and accounts for the highest revenue, the average amount spent is much less than Delhi and Karnataka. A similar trend is found in Maharashtra too which places it at 7th position. Delhi is ranked 4th in the first two scenarios, but the average is the highest."
   ]
  },
  {
   "cell_type": "code",
   "execution_count": 80,
   "id": "60e886ed",
   "metadata": {},
   "outputs": [
    {
     "data": {
      "image/png": "[encoded data removed]",
      "text/plain": [
       "<Figure size 432x288 with 1 Axes>"
      ]
     },
     "metadata": {
      "needs_background": "light"
     },
     "output_type": "display_data"
    }
   ],
   "source": [
    "ax = sns.countplot(data = df, x = 'Marital_Status')\n",
    "\n",
    "for bars in ax.containers:\n",
    "    ax.bar_label(bars)"
   ]
  },
  {
   "cell_type": "markdown",
   "id": "99393516",
   "metadata": {},
   "source": [
    "##### Most orders are placed by married people."
   ]
  },
  {
   "cell_type": "code",
   "execution_count": 98,
   "id": "db003679",
   "metadata": {},
   "outputs": [
    {
     "data": {
      "text/plain": [
       "<AxesSubplot:xlabel='Marital_Status', ylabel='Amount'>"
      ]
     },
     "execution_count": 98,
     "metadata": {},
     "output_type": "execute_result"
    },
    {
     "data": {
      "image/png": "[encoded data removed]",
      "text/plain": [
       "<Figure size 432x288 with 1 Axes>"
      ]
     },
     "metadata": {
      "needs_background": "light"
     },
     "output_type": "display_data"
    }
   ],
   "source": [
    "sales_status = df.groupby(['Marital_Status', 'Gender'], as_index = False)['Amount'].sum().sort_values(by = 'Amount', ascending = False)\n",
    "\n",
    "sns.barplot(data = sales_status, x = 'Marital_Status', y = 'Amount', hue = 'Gender')"
   ]
  },
  {
   "cell_type": "markdown",
   "id": "1c722c60",
   "metadata": {},
   "source": [
    "##### Further breaking down, married women have spent more than married men. Women have spent more than twice than what men have spent. It's the same scenario while comparing married and unmarried women and men separately."
   ]
  },
  {
   "cell_type": "code",
   "execution_count": 83,
   "id": "1ca0abed",
   "metadata": {},
   "outputs": [
    {
     "data": {
      "text/plain": [
       "(array([ 0,  1,  2,  3,  4,  5,  6,  7,  8,  9, 10, 11, 12, 13, 14]),\n",
       " [Text(0, 0, 'Healthcare'),\n",
       "  Text(1, 0, 'Govt'),\n",
       "  Text(2, 0, 'Automobile'),\n",
       "  Text(3, 0, 'Construction'),\n",
       "  Text(4, 0, 'Food Processing'),\n",
       "  Text(5, 0, 'Lawyer'),\n",
       "  Text(6, 0, 'Media'),\n",
       "  Text(7, 0, 'Banking'),\n",
       "  Text(8, 0, 'Retail'),\n",
       "  Text(9, 0, 'IT Sector'),\n",
       "  Text(10, 0, 'Aviation'),\n",
       "  Text(11, 0, 'Hospitality'),\n",
       "  Text(12, 0, 'Agriculture'),\n",
       "  Text(13, 0, 'Textile'),\n",
       "  Text(14, 0, 'Chemical')])"
      ]
     },
     "execution_count": 83,
     "metadata": {},
     "output_type": "execute_result"
    },
    {
     "data": {
      "image/png": "[encoded data removed]",
      "text/plain": [
       "<Figure size 432x288 with 1 Axes>"
      ]
     },
     "metadata": {
      "needs_background": "light"
     },
     "output_type": "display_data"
    }
   ],
   "source": [
    "ax = sns.countplot(data = df, x = 'Occupation')\n",
    "\n",
    "for bars in ax.containers:\n",
    "    ax.bar_label(bars)\n",
    "    \n",
    "plt.xticks(rotation=90, fontsize=10)"
   ]
  },
  {
   "cell_type": "markdown",
   "id": "0b2cc6e0",
   "metadata": {},
   "source": [
    "##### The top three orders are from IT sector, Healthcare and Aviation industries."
   ]
  },
  {
   "cell_type": "code",
   "execution_count": 86,
   "id": "ae737ad4",
   "metadata": {},
   "outputs": [
    {
     "data": {
      "text/plain": [
       "(array([ 0,  1,  2,  3,  4,  5,  6,  7,  8,  9, 10, 11, 12, 13, 14]),\n",
       " [Text(0, 0, 'IT Sector'),\n",
       "  Text(1, 0, 'Healthcare'),\n",
       "  Text(2, 0, 'Aviation'),\n",
       "  Text(3, 0, 'Banking'),\n",
       "  Text(4, 0, 'Govt'),\n",
       "  Text(5, 0, 'Hospitality'),\n",
       "  Text(6, 0, 'Media'),\n",
       "  Text(7, 0, 'Automobile'),\n",
       "  Text(8, 0, 'Chemical'),\n",
       "  Text(9, 0, 'Lawyer'),\n",
       "  Text(10, 0, 'Retail'),\n",
       "  Text(11, 0, 'Food Processing'),\n",
       "  Text(12, 0, 'Construction'),\n",
       "  Text(13, 0, 'Textile'),\n",
       "  Text(14, 0, 'Agriculture')])"
      ]
     },
     "execution_count": 86,
     "metadata": {},
     "output_type": "execute_result"
    },
    {
     "data": {
      "image/png": "[encoded data removed]",
      "text/plain": [
       "<Figure size 432x288 with 1 Axes>"
      ]
     },
     "metadata": {
      "needs_background": "light"
     },
     "output_type": "display_data"
    }
   ],
   "source": [
    "sales_by_occupation = df.groupby(['Occupation'], as_index = False)['Amount'].sum().sort_values(by = 'Amount', ascending = False)\n",
    "\n",
    "sns.barplot(data = sales_by_occupation, x = 'Occupation', y = 'Amount')\n",
    "plt.xticks(rotation=90, fontsize=10)"
   ]
  },
  {
   "cell_type": "markdown",
   "id": "933231bd",
   "metadata": {},
   "source": [
    "##### The order is the same when it comes to the amount spent as well. the only thing we notice is retail industry makes more orders but accounts for less money."
   ]
  },
  {
   "cell_type": "code",
   "execution_count": 87,
   "id": "21332030",
   "metadata": {},
   "outputs": [
    {
     "data": {
      "text/plain": [
       "(array([ 0,  1,  2,  3,  4,  5,  6,  7,  8,  9, 10, 11, 12, 13, 14, 15, 16,\n",
       "        17]),\n",
       " [Text(0, 0, 'Auto'),\n",
       "  Text(1, 0, 'Hand & Power Tools'),\n",
       "  Text(2, 0, 'Stationery'),\n",
       "  Text(3, 0, 'Tupperware'),\n",
       "  Text(4, 0, 'Footwear & Shoes'),\n",
       "  Text(5, 0, 'Furniture'),\n",
       "  Text(6, 0, 'Food'),\n",
       "  Text(7, 0, 'Games & Toys'),\n",
       "  Text(8, 0, 'Sports Products'),\n",
       "  Text(9, 0, 'Books'),\n",
       "  Text(10, 0, 'Electronics & Gadgets'),\n",
       "  Text(11, 0, 'Decor'),\n",
       "  Text(12, 0, 'Clothing & Apparel'),\n",
       "  Text(13, 0, 'Beauty'),\n",
       "  Text(14, 0, 'Household items'),\n",
       "  Text(15, 0, 'Pet Care'),\n",
       "  Text(16, 0, 'Veterinary'),\n",
       "  Text(17, 0, 'Office')])"
      ]
     },
     "execution_count": 87,
     "metadata": {},
     "output_type": "execute_result"
    },
    {
     "data": {
      "image/png": "[encoded data removed]",
      "text/plain": [
       "<Figure size 432x288 with 1 Axes>"
      ]
     },
     "metadata": {
      "needs_background": "light"
     },
     "output_type": "display_data"
    }
   ],
   "source": [
    "ax = sns.countplot(data = df, x = 'Product_Category')\n",
    "\n",
    "for bars in ax.containers:\n",
    "    ax.bar_label(bars)\n",
    "    \n",
    "plt.xticks(rotation=90, fontsize=10)"
   ]
  },
  {
   "cell_type": "markdown",
   "id": "ee9d87b9",
   "metadata": {},
   "source": [
    "##### The top four product cartegories account for more than two-thirds of the entire orders. It's no surprise that people buy clothes and footwear during the festival, but also tend to purchase electronic items too. Food being the second most product bought- one can assume most of it being sweets."
   ]
  },
  {
   "cell_type": "code",
   "execution_count": 100,
   "id": "1a025269",
   "metadata": {},
   "outputs": [
    {
     "data": {
      "text/plain": [
       "(array([ 0,  1,  2,  3,  4,  5,  6,  7,  8,  9, 10, 11, 12, 13, 14, 15, 16,\n",
       "        17]),\n",
       " [Text(0, 0, 'Food'),\n",
       "  Text(1, 0, 'Clothing & Apparel'),\n",
       "  Text(2, 0, 'Electronics & Gadgets'),\n",
       "  Text(3, 0, 'Footwear & Shoes'),\n",
       "  Text(4, 0, 'Furniture'),\n",
       "  Text(5, 0, 'Games & Toys'),\n",
       "  Text(6, 0, 'Sports Products'),\n",
       "  Text(7, 0, 'Beauty'),\n",
       "  Text(8, 0, 'Auto'),\n",
       "  Text(9, 0, 'Stationery'),\n",
       "  Text(10, 0, 'Household items'),\n",
       "  Text(11, 0, 'Tupperware'),\n",
       "  Text(12, 0, 'Books'),\n",
       "  Text(13, 0, 'Decor'),\n",
       "  Text(14, 0, 'Pet Care'),\n",
       "  Text(15, 0, 'Hand & Power Tools'),\n",
       "  Text(16, 0, 'Veterinary'),\n",
       "  Text(17, 0, 'Office')])"
      ]
     },
     "execution_count": 100,
     "metadata": {},
     "output_type": "execute_result"
    },
    {
     "data": {
      "image/png": "[encoded data removed]",
      "text/plain": [
       "<Figure size 432x288 with 1 Axes>"
      ]
     },
     "metadata": {
      "needs_background": "light"
     },
     "output_type": "display_data"
    }
   ],
   "source": [
    "sales_by_occupation = df.groupby(['Product_Category'], as_index = False)['Amount'].sum().sort_values(by = 'Amount', ascending = False)\n",
    "\n",
    "sns.barplot(data = sales_by_occupation, x = 'Product_Category', y = 'Amount')\n",
    "plt.xticks(rotation=90, fontsize=10)"
   ]
  },
  {
   "cell_type": "code",
   "execution_count": 103,
   "id": "a090d1d0",
   "metadata": {},
   "outputs": [
    {
     "data": {
      "text/html": [
       "<div>\n",
       "<style scoped>\n",
       "    .dataframe tbody tr th:only-of-type {\n",
       "        vertical-align: middle;\n",
       "    }\n",
       "\n",
       "    .dataframe tbody tr th {\n",
       "        vertical-align: top;\n",
       "    }\n",
       "\n",
       "    .dataframe thead th {\n",
       "        text-align: right;\n",
       "    }\n",
       "</style>\n",
       "<table border=\"1\" class=\"dataframe\">\n",
       "  <thead>\n",
       "    <tr style=\"text-align: right;\">\n",
       "      <th></th>\n",
       "      <th>Product_Category</th>\n",
       "      <th>Amount</th>\n",
       "    </tr>\n",
       "  </thead>\n",
       "  <tbody>\n",
       "    <tr>\n",
       "      <th>6</th>\n",
       "      <td>Food</td>\n",
       "      <td>33933883.50</td>\n",
       "    </tr>\n",
       "    <tr>\n",
       "      <th>3</th>\n",
       "      <td>Clothing &amp; Apparel</td>\n",
       "      <td>16495019.00</td>\n",
       "    </tr>\n",
       "    <tr>\n",
       "      <th>5</th>\n",
       "      <td>Electronics &amp; Gadgets</td>\n",
       "      <td>15643846.00</td>\n",
       "    </tr>\n",
       "    <tr>\n",
       "      <th>7</th>\n",
       "      <td>Footwear &amp; Shoes</td>\n",
       "      <td>15575209.45</td>\n",
       "    </tr>\n",
       "    <tr>\n",
       "      <th>8</th>\n",
       "      <td>Furniture</td>\n",
       "      <td>5440051.99</td>\n",
       "    </tr>\n",
       "    <tr>\n",
       "      <th>9</th>\n",
       "      <td>Games &amp; Toys</td>\n",
       "      <td>4331694.00</td>\n",
       "    </tr>\n",
       "    <tr>\n",
       "      <th>14</th>\n",
       "      <td>Sports Products</td>\n",
       "      <td>3635933.00</td>\n",
       "    </tr>\n",
       "    <tr>\n",
       "      <th>1</th>\n",
       "      <td>Beauty</td>\n",
       "      <td>1959484.00</td>\n",
       "    </tr>\n",
       "    <tr>\n",
       "      <th>0</th>\n",
       "      <td>Auto</td>\n",
       "      <td>1958609.99</td>\n",
       "    </tr>\n",
       "    <tr>\n",
       "      <th>15</th>\n",
       "      <td>Stationery</td>\n",
       "      <td>1676051.50</td>\n",
       "    </tr>\n",
       "    <tr>\n",
       "      <th>11</th>\n",
       "      <td>Household items</td>\n",
       "      <td>1569337.00</td>\n",
       "    </tr>\n",
       "    <tr>\n",
       "      <th>16</th>\n",
       "      <td>Tupperware</td>\n",
       "      <td>1155642.00</td>\n",
       "    </tr>\n",
       "    <tr>\n",
       "      <th>2</th>\n",
       "      <td>Books</td>\n",
       "      <td>1061478.00</td>\n",
       "    </tr>\n",
       "    <tr>\n",
       "      <th>4</th>\n",
       "      <td>Decor</td>\n",
       "      <td>730360.00</td>\n",
       "    </tr>\n",
       "    <tr>\n",
       "      <th>13</th>\n",
       "      <td>Pet Care</td>\n",
       "      <td>482277.00</td>\n",
       "    </tr>\n",
       "    <tr>\n",
       "      <th>10</th>\n",
       "      <td>Hand &amp; Power Tools</td>\n",
       "      <td>405618.00</td>\n",
       "    </tr>\n",
       "    <tr>\n",
       "      <th>17</th>\n",
       "      <td>Veterinary</td>\n",
       "      <td>112702.00</td>\n",
       "    </tr>\n",
       "    <tr>\n",
       "      <th>12</th>\n",
       "      <td>Office</td>\n",
       "      <td>81936.00</td>\n",
       "    </tr>\n",
       "  </tbody>\n",
       "</table>\n",
       "</div>"
      ],
      "text/plain": [
       "         Product_Category       Amount\n",
       "6                    Food  33933883.50\n",
       "3      Clothing & Apparel  16495019.00\n",
       "5   Electronics & Gadgets  15643846.00\n",
       "7        Footwear & Shoes  15575209.45\n",
       "8               Furniture   5440051.99\n",
       "9            Games & Toys   4331694.00\n",
       "14        Sports Products   3635933.00\n",
       "1                  Beauty   1959484.00\n",
       "0                    Auto   1958609.99\n",
       "15             Stationery   1676051.50\n",
       "11        Household items   1569337.00\n",
       "16             Tupperware   1155642.00\n",
       "2                   Books   1061478.00\n",
       "4                   Decor    730360.00\n",
       "13               Pet Care    482277.00\n",
       "10     Hand & Power Tools    405618.00\n",
       "17             Veterinary    112702.00\n",
       "12                 Office     81936.00"
      ]
     },
     "execution_count": 103,
     "metadata": {},
     "output_type": "execute_result"
    }
   ],
   "source": [
    "sales_by_occupation"
   ]
  },
  {
   "cell_type": "code",
   "execution_count": 122,
   "id": "e384cf75",
   "metadata": {},
   "outputs": [
    {
     "data": {
      "text/plain": [
       "Product_Category    FoodClothing & ApparelElectronics & GadgetsFoo...\n",
       "Amount                                                    81647957.95\n",
       "dtype: object"
      ]
     },
     "execution_count": 122,
     "metadata": {},
     "output_type": "execute_result"
    }
   ],
   "source": [
    "sales_by_occupation.iloc[:4].sum()\n"
   ]
  },
  {
   "cell_type": "code",
   "execution_count": 123,
   "id": "15b57cf2",
   "metadata": {},
   "outputs": [
    {
     "data": {
      "text/plain": [
       "Product_Category    FurnitureGames & ToysSports ProductsBeautyAuto...\n",
       "Amount                                                    24601174.48\n",
       "dtype: object"
      ]
     },
     "execution_count": 123,
     "metadata": {},
     "output_type": "execute_result"
    }
   ],
   "source": [
    "sales_by_occupation.iloc[4:].sum()"
   ]
  },
  {
   "cell_type": "markdown",
   "id": "a9222528",
   "metadata": {},
   "source": [
    "##### When it comes to sales, food has significantly generated the highest sales than all the other products. Food alone accounts for 32% of revenue. The top four product categories generate more than two-thirds of the entire revenue. Office supplies are the least sold."
   ]
  },
  {
   "cell_type": "code",
   "execution_count": 90,
   "id": "b684a71f",
   "metadata": {},
   "outputs": [
    {
     "data": {
      "text/plain": [
       "(array([ 0,  1,  2,  3,  4,  5,  6,  7,  8,  9, 10, 11, 12, 13, 14, 15, 16,\n",
       "        17, 18, 19]),\n",
       " [Text(0, 0, 'P00265242'),\n",
       "  Text(1, 0, 'P00110942'),\n",
       "  Text(2, 0, 'P00237542'),\n",
       "  Text(3, 0, 'P00184942'),\n",
       "  Text(4, 0, 'P00114942'),\n",
       "  Text(5, 0, 'P00025442'),\n",
       "  Text(6, 0, 'P00117942'),\n",
       "  Text(7, 0, 'P00145042'),\n",
       "  Text(8, 0, 'P00044442'),\n",
       "  Text(9, 0, 'P00110842'),\n",
       "  Text(10, 0, 'P00110742'),\n",
       "  Text(11, 0, 'P00058042'),\n",
       "  Text(12, 0, 'P00216342'),\n",
       "  Text(13, 0, 'P00028842'),\n",
       "  Text(14, 0, 'P00059442'),\n",
       "  Text(15, 0, 'P00106042'),\n",
       "  Text(16, 0, 'P00080342'),\n",
       "  Text(17, 0, 'P00112542'),\n",
       "  Text(18, 0, 'P00251242'),\n",
       "  Text(19, 0, 'P00148642')])"
      ]
     },
     "execution_count": 90,
     "metadata": {},
     "output_type": "execute_result"
    },
    {
     "data": {
      "image/png": "[encoded data removed]",
      "text/plain": [
       "<Figure size 432x288 with 1 Axes>"
      ]
     },
     "metadata": {
      "needs_background": "light"
     },
     "output_type": "display_data"
    }
   ],
   "source": [
    "sales_by_occupation = df.groupby(['Product_ID'], as_index = False)['Orders'].sum().sort_values(by = 'Orders', ascending = False).head(20)\n",
    "\n",
    "sns.barplot(data = sales_by_occupation, x = 'Product_ID', y = 'Orders')\n",
    "plt.xticks(rotation=90, fontsize=10)"
   ]
  },
  {
   "cell_type": "code",
   "execution_count": 91,
   "id": "9c0f30ab",
   "metadata": {},
   "outputs": [
    {
     "data": {
      "text/plain": [
       "<AxesSubplot:xlabel='Product_ID'>"
      ]
     },
     "execution_count": 91,
     "metadata": {},
     "output_type": "execute_result"
    },
    {
     "data": {
      "image/png": "[encoded data removed]",
      "text/plain": [
       "<Figure size 864x504 with 1 Axes>"
      ]
     },
     "metadata": {
      "needs_background": "light"
     },
     "output_type": "display_data"
    }
   ],
   "source": [
    "fig1, ax1 = plt.subplots(figsize = (12,7))\n",
    "df.groupby('Product_ID')['Orders'].sum().nlargest(10).sort_values(ascending = False).plot(kind = 'bar')"
   ]
  },
  {
   "cell_type": "markdown",
   "id": "c2cacda7",
   "metadata": {},
   "source": [
    "#### Married women working in IT, Healthcare, Aviation and Banking sectors have ordered more clothes, electronics and food and have also generated huge income for the company. We can focus on the same products the next year and also try to accomodate some more products which have performed poorly this time by introducing attractive discounts and offers."
   ]
  }
 ],
 "metadata": {
  "kernelspec": {
   "display_name": "Python 3 (ipykernel)",
   "language": "python",
   "name": "python3"
  },
  "language_info": {
   "codemirror_mode": {
    "name": "ipython",
    "version": 3
   },
   "file_extension": ".py",
   "mimetype": "text/x-python",
   "name": "python",
   "nbconvert_exporter": "python",
   "pygments_lexer": "ipython3",
   "version": "3.9.12"
  }
 },
 "nbformat": 4,
 "nbformat_minor": 5
}
